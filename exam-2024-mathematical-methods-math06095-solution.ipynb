{
 "cells": [
  {
   "cell_type": "markdown",
   "metadata": {},
   "source": [
    "<!--\n",
    "import data_analytics.github as github\n",
    "print(github.create_jupyter_notebook_header(\"marcocrowe\", \"learn-mathematical-methods\", \"exam-2024-mathematical-methods-math06095-solution.ipynb\", \"master\"))\n",
    "-->\n",
    "<table style=\"margin: auto;\"><tr><td><a href=\"https://mybinder.org/v2/gh/marcocrowe/learn-mathematical-methods/master?filepath=exam-2024-mathematical-methods-math06095-solution.ipynb\" target=\"_parent\"><img src=\"https://mybinder.org/badge_logo.svg\" alt=\"Open In Binder\"/></a></td><td>online editors</td><td><a href=\"https://colab.research.google.com/github/marcocrowe/learn-mathematical-methods/blob/master/exam-2024-mathematical-methods-math06095-solution.ipynb\" target=\"_parent\"><img src=\"https://colab.research.google.com/assets/colab-badge.svg\" alt=\"Open In Colab\"/></a></td></tr></table>\n"
   ]
  },
  {
   "cell_type": "markdown",
   "metadata": {},
   "source": [
    "# Mathematical Methods - Exam Paper - 2024 - Summer"
   ]
  },
  {
   "cell_type": "markdown",
   "metadata": {},
   "source": [
    "**Time Allowed**: 2 hours\n",
    "\n",
    "**Instructions**: You must answer Question One and any two other questions.\n",
    "\n",
    "**Marks and marks will be scaled to 100.**\n",
    "\n",
    "The use of programmable or text storing calculators is expressly forbidden.\n",
    "\n",
    "Please note that where a candidate answers more than the required number of questions, the examiner will mark all questions attempted and then select the highest scoring ones.\n",
    "\n",
    "Requirements for this paper:\n",
    "\n",
    "1. Calculators"
   ]
  },
  {
   "cell_type": "markdown",
   "metadata": {},
   "source": [
    "## Question 1 (Total Marks 40)"
   ]
  },
  {
   "cell_type": "markdown",
   "metadata": {},
   "source": [
    "## Question 1(a)"
   ]
  },
  {
   "cell_type": "markdown",
   "metadata": {},
   "source": [
    "Given $f(x) = 7 + 2x$, $g(x) = \\dfrac{2x+4}{6}$, $h(x) = x^2 - 5$, evaluate\n",
    "\n",
    "1. $g(-8)$ **(2 marks)**\n",
    "2. $f(h(x))$ **(4 marks)**\n",
    "3. $f(h(3))$ **(2 marks)**\n",
    "4. $f^{-1}(11)$ **(4 marks)**"
   ]
  },
  {
   "cell_type": "markdown",
   "metadata": {},
   "source": [
    "### Question 1.a.1 Answer"
   ]
  },
  {
   "cell_type": "markdown",
   "metadata": {},
   "source": [
    "$g(x) = \\dfrac{2x+4}{6}$  \n",
    "$g(x) = \\dfrac{2(-8) + 4}{6} = \\dfrac{-16 + 4}{6} = \\dfrac{-12}{6} = -2$"
   ]
  },
  {
   "cell_type": "markdown",
   "metadata": {},
   "source": [
    "### Question 1.a.2 Answer"
   ]
  },
  {
   "cell_type": "markdown",
   "metadata": {},
   "source": [
    "$h(x) = x^2 - 5$  \n",
    "$f(a) = 7 + 2a$  \n",
    "Let a = $h(x) = x^2 - 5$  \n",
    "$f(h(x)) = 7 +2((x^2 - 5))$  \n",
    "$f(h(x)) = 7 + 2x^2 - 10$  \n",
    "$f(h(x)) = 2x^2 - 3$"
   ]
  },
  {
   "cell_type": "markdown",
   "metadata": {},
   "source": [
    "### Question 1.a.3 Answer"
   ]
  },
  {
   "cell_type": "markdown",
   "metadata": {},
   "source": [
    "$f(h(3))$, First calculate $h(3)$  \n",
    "\n",
    "$f(h) = x^2 - 5$  \n",
    "$f(3) = 3^2 - 5 = 9 - 5 = 4$\n",
    "\n",
    "$f(x) = 7 + 2x$  \n",
    "$f(h(3)) =f(4)$  \n",
    "$f(4) = 7 + 2(4) = 7 + 8 = 15$"
   ]
  },
  {
   "cell_type": "markdown",
   "metadata": {},
   "source": [
    "### Question 1.a.4 Answer\n"
   ]
  },
  {
   "cell_type": "markdown",
   "metadata": {},
   "source": [
    "$f(x) = 7 + 2x$  \n",
    "To get $f^{-1}(11)$ first find x when $f(x) = 11$\n",
    "\n",
    "$f(x) = 7 + 2x$  \n",
    "$11 = 7 + 2x$  \n",
    "$11 - 7 = 2x$  \n",
    "$4 = 2x$  \n",
    "$x = 2$\n",
    "\n",
    "Therefore, $f^{-1}(11) = 2$\n",
    "\n",
    "Verification:\n",
    "\n",
    "$f(2) = 7 + 2(2) = 7 + 4 = 11$"
   ]
  },
  {
   "cell_type": "markdown",
   "metadata": {},
   "source": [
    "### Question 1(b)"
   ]
  },
  {
   "cell_type": "markdown",
   "metadata": {},
   "source": [
    "1. **Plot** the graph of $y = 4e^{0.5x}$< for value of x from x = -5 to x = 4, using intervals of one. **(12 Marks)**\n",
    "2. Use your graph to find the value of y when x = 1.5 **(3 Marks)**"
   ]
  },
  {
   "cell_type": "markdown",
   "metadata": {},
   "source": [
    "### Question 1.b.1 Answer"
   ]
  },
  {
   "cell_type": "code",
   "execution_count": 4,
   "metadata": {},
   "outputs": [
    {
     "data": {
      "image/png": "[encoded data removed]",
      "text/plain": [
       "<Figure size 640x480 with 1 Axes>"
      ]
     },
     "metadata": {},
     "output_type": "display_data"
    }
   ],
   "source": [
    "import numpy as np\n",
    "import matplotlib.pyplot as plt\n",
    "\n",
    "x = np.arange(-5, 4, 1)\n",
    "y = 4 * np.exp(0.5 * x)\n",
    "\n",
    "plt.plot(x, y)\n",
    "plt.xlabel('x')\n",
    "plt.ylabel('y')\n",
    "plt.title('$y = 4e^{0.5x}$')\n",
    "plt.grid()\n",
    "plt.show()"
   ]
  },
  {
   "cell_type": "markdown",
   "metadata": {},
   "source": [
    "#### Question 1.b.2 Answer"
   ]
  },
  {
   "cell_type": "markdown",
   "metadata": {},
   "source": [
    "2. Use your graph to find the value of y when x = 1.5 **(3 Marks)**\n",
    "\n",
    "When $x = 1.5, y = 4e^{0.5*1.5} = 4e^{0.75} = 4 * 2.117 = 8.468$"
   ]
  },
  {
   "cell_type": "markdown",
   "metadata": {},
   "source": [
    "### Question 1(c)\n",
    "\n",
    "Given the following trigonometry functions: $y_1= 3\\sin 2x$\n",
    "\n",
    "1. State the amplitude and period of the trigonometric function. **(4 marks)**\n",
    "2. Sketch a graph for $y_1 = 3sin2x$ for 0 ≤ x ≤ 360° clearly labelling your axes. **(6 marks)**\n",
    "3. Use (1) and (2) to evaluate 3sin2x when x = 570°. **(3 marks)**"
   ]
  },
  {
   "cell_type": "markdown",
   "metadata": {},
   "source": [
    "### Question 1.c.1 Answer"
   ]
  },
  {
   "cell_type": "markdown",
   "metadata": {},
   "source": [
    "The amplitude of the trigonometric function is 3 and the period is $\\dfrac{2\\pi}{2} = \\pi$"
   ]
  },
  {
   "cell_type": "markdown",
   "metadata": {},
   "source": [
    "### Question 1.c.2 Answer"
   ]
  },
  {
   "cell_type": "code",
   "execution_count": 25,
   "metadata": {},
   "outputs": [
    {
     "data": {
      "image/png": "[encoded data removed]",
      "text/plain": [
       "<Figure size 640x480 with 1 Axes>"
      ]
     },
     "metadata": {},
     "output_type": "display_data"
    }
   ],
   "source": [
    "from numpy import arange, linspace, pi, sin\n",
    "import matplotlib.pyplot as plt\n",
    "\n",
    "x_values = linspace(0, 360, 1_000)  # Range from -180 to 360\n",
    "y = 3 * sin(2 * x_values * (np.pi/180))\n",
    "\n",
    "sin_y = sin(x_values * pi / 180)\n",
    "\n",
    "red_line = plt.plot(x_values, sin_y, 'red')\n",
    "\n",
    "\n",
    "x_values = linspace(0, 360, 1_000)  # Range from -180 to 360\n",
    "red_line = Line(x_values, sin(x_values * pi / 180), color=\"red\")\n",
    "blue_line = Line(x_values, y, color=\"blue\")\n",
    "# Define the x-axis values\n",
    "# Generate the y-axis values (sine values)\n",
    "graph_function([red_line, blue_line], \"Waves on Scale -180 to 360\", \"X\", \"Y\")\n"
   ]
  },
  {
   "cell_type": "code",
   "execution_count": 20,
   "metadata": {},
   "outputs": [],
   "source": [
    "\n",
    "class Line:\n",
    "    def __init__(\n",
    "        self, x_values, y_values, color=\"blue\", line_style=\"solid\", line_width=1\n",
    "    ):\n",
    "        self.__x_values = x_values\n",
    "        \"\"\"The x values of the line.\"\"\"\n",
    "        self.__y_values = y_values\n",
    "        \"\"\"The y values of the line.\"\"\"\n",
    "        self.__color = color\n",
    "        \"\"\"The color of the line.\"\"\"\n",
    "        self.__line_style = line_style\n",
    "        \"\"\"The line style of the line.\"\"\"\n",
    "        self.__line_width = line_width\n",
    "        \"\"\"The line width of the line.\"\"\"\n",
    "\n",
    "    @property\n",
    "    def x_values(self):\n",
    "        \"\"\"The x values of the line.\n",
    "\n",
    "        Returns:\n",
    "            _type_: _description_\n",
    "        \"\"\"\n",
    "        return self.__x_values\n",
    "\n",
    "    @property\n",
    "    def y_values(self):\n",
    "        \"\"\"The y values of the line.\n",
    "\n",
    "        Returns:\n",
    "            _type_: _description_\n",
    "        \"\"\"\n",
    "        return self.__y_values\n",
    "\n",
    "    @property\n",
    "    def color(self):\n",
    "        \"\"\"The color of the line.\n",
    "\n",
    "        Returns:\n",
    "            _type_: _description_\n",
    "        \"\"\"\n",
    "        return self.__color\n",
    "\n",
    "    @property\n",
    "    def line_style(self):\n",
    "        \"\"\"The line style of the line.\n",
    "\n",
    "        Returns:\n",
    "            _type_: _description_\n",
    "        \"\"\"\n",
    "        return self.__line_style\n",
    "\n",
    "    @property\n",
    "    def line_width(self):\n",
    "        \"\"\"The line width of the line.\n",
    "\n",
    "        Returns:\n",
    "            _type_: _description_\n",
    "        \"\"\"\n",
    "        return self.__line_width\n",
    "    \n",
    "def graph_function(lines: list, title, x_label, y_label):\n",
    "    # Plot the sine wave for the range from -180 to 360\n",
    "    for line in lines:\n",
    "        plt.plot(\n",
    "            line.x_values,\n",
    "            line.y_values,\n",
    "            color=line.color,\n",
    "            linestyle=line.line_style,\n",
    "            linewidth=line.line_width,\n",
    "        )\n",
    "    plt.title(title)\n",
    "    plt.xlabel(x_label)\n",
    "    plt.ylabel(y_label)\n",
    "\n",
    "    # Add vertical line at x=0 and horizontal line at y=0\n",
    "    plt.axhline(0, color=\"black\", linewidth=0.5)\n",
    "    plt.axvline(0, color=\"black\", linewidth=0.5)\n",
    "\n",
    "    # Set x ticks at every 90 degrees and move ticks to the center\n",
    "    plt.xticks(arange(-180, 361, 90), rotation=0, ha=\"center\")\n",
    "    plt.yticks(arange(-1, 1.1, 0.5), rotation=90, va=\"center\")\n",
    "\n",
    "    # Remove the box around the plot\n",
    "    plt.gca().spines[\"top\"].set_visible(False)\n",
    "    plt.gca().spines[\"right\"].set_visible(False)\n",
    "\n",
    "    # Adjust the position of the x-axis and y-axis lines\n",
    "    plt.gca().spines[\"left\"].set_position(\"zero\")\n",
    "    plt.gca().spines[\"bottom\"].set_position(\"zero\")\n",
    "    plt.gca().spines[\"left\"].set_color(\"gray\")\n",
    "    plt.gca().spines[\"bottom\"].set_color(\"gray\")\n",
    "\n",
    "    plt.tight_layout()\n",
    "    plt.show()\n"
   ]
  },
  {
   "cell_type": "markdown",
   "metadata": {},
   "source": [
    "\n",
    "### Question 1.c.3 Answer\n",
    "\n",
    "3. Use (1) and (2) to evaluate 3sin2x when x = 570°. **(3 marks)**\n",
    "\n",
    "When $x = 570°, y = 3\\sin(2*570) = 3\\sin(1140) = 3\\sin(2\\pi) = 3\\sin(0) = 0$"
   ]
  },
  {
   "cell_type": "markdown",
   "metadata": {},
   "source": [
    "\n",
    "## Question 2 (Total Marks 30)\n",
    "\n",
    "### Question 2(a)\n",
    "\n",
    "Given the following matrices\n",
    "\n",
    "$A = \\begin{bmatrix} 5 & -6 \\\\ 3 & 2 \\\\ -7 & 4 \\end{bmatrix}$, $B = \\begin{bmatrix} 9 & 2 & 3 \\\\ 4 & -7 & 1 \\end{bmatrix}$, $C = \\begin{bmatrix} 4 & 5 \\\\ 8 & -2 \\end{bmatrix}$, $D = \\begin{bmatrix} 5 & 7 & -1 \\\\ 3 & 6 & 2 \\end{bmatrix}$\n",
    "\n",
    "Find:\n",
    "\n",
    "1. $3B - 2D$ **(4 marks)**\n",
    "2. $B^T$ **(2 marks)**\n",
    "3. $AC$ **(8 marks)**\n",
    "4. $C^{-1}$, the inverse of C **(6 marks)**\n",
    "\n",
    "### Question 2(b)\n",
    "\n",
    "Given $X = \\begin{bmatrix} -2 & 3 & 5 \\\\ 4 & 1 & 7 \\\\ -6 & 0 & 3 \\end{bmatrix}$ find $|X|$, the determinant of X **(10 marks)**\n"
   ]
  },
  {
   "cell_type": "markdown",
   "metadata": {},
   "source": [
    "\n",
    "## Question 3 (Total Marks 30)\n",
    "\n",
    "### Question 3(a)\n",
    "\n",
    "Given the line $6x - 4y = 12$\n",
    "\n",
    "1. Write down the slope and y-intercept of the line. **(3 marks)**\n",
    "\n",
    "2. Find the coordinates of where the line cuts the x-axis and hence sketch the line. **(4 marks)**\n",
    "\n",
    "### Question 3(b)\n",
    "\n",
    "The line M contains the coordinates a(3,8) and b(-3,4).\n",
    "\n",
    "1. Find the distance between a and b. **(4 marks)**\n",
    "2. Find the equation of line M. **(6 marks)**\n",
    "3. Write an equation for any line parallel to M. **(3 marks)**\n",
    "4. Write an equation for any line perpendicular to M **(4 marks)**\n",
    "5. Line N has the equation $5x + 2y = 12$. Find the coordinates of the point of intersection of M and N. **(6 marks)**\n"
   ]
  },
  {
   "cell_type": "markdown",
   "metadata": {},
   "source": [
    "\n",
    "## Question 4 (Total Marks 30)\n",
    "\n",
    "### Question 4(a)\n",
    "\n",
    "Given:\n",
    "\n",
    "$U = \\{1,2,3,4,5,6,7,8,9,10,11,12,13,14,15,16,17,18,19,20\\}$  \n",
    "$A = \\{1,2,3,4,5,15,16,17\\}$  \n",
    "$B = \\{3,4,5,6,7,8,9,10\\}$  \n",
    "$C = \\{2,4,6,8,10,12,14,16,18,20\\}$\n",
    "\n",
    "Evaluate the following:\n",
    "\n",
    "1. $A \\cup B$ **(4 marks)**\n",
    "2. $U - (B \\cap C)$ **(4 marks)**\n",
    "3. $A' - B$ **(4 marks)**\n",
    "\n",
    "### Question 4(b)\n",
    "\n",
    "From a group of 100 students surveyed we obtain the following:\n",
    "\n",
    "- 12 play tennis and basketball\n",
    "- 11 play tennis and volleyball\n",
    "- 13 play basketball and volleyball\n",
    "- 40 play tennis\n",
    "- 40 play basketball\n",
    "- 30 play volleyball\n",
    "- 18 play none of the three\n",
    "\n",
    "1. Draw the Venn diagram **(8 marks)** and answer the following:\n",
    "2. How many students play all three sports? **(5 marks)**\n",
    "3. How many play tennis but not volleyball? **(5 marks)**"
   ]
  }
 ],
 "metadata": {
  "kernelspec": {
   "display_name": "base",
   "language": "python",
   "name": "python3"
  },
  "language_info": {
   "codemirror_mode": {
    "name": "ipython",
    "version": 3
   },
   "file_extension": ".py",
   "mimetype": "text/x-python",
   "name": "python",
   "nbconvert_exporter": "python",
   "pygments_lexer": "ipython3",
   "version": "3.11.5"
  }
 },
 "nbformat": 4,
 "nbformat_minor": 2
}
