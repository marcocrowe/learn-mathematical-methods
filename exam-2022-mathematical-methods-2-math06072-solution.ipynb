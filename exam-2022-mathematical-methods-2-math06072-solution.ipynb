{
 "cells": [
  {
   "cell_type": "markdown",
   "metadata": {},
   "source": [
    "<!--\n",
    "import data_analytics.github as github\n",
    "print(github.create_jupyter_notebook_header(\"marcocrowe\", \"learn-mathematical-methods\", \"exam-2022-mathematical-methods-2-math06072-solution.ipynb\", \"master\"))\n",
    "-->\n",
    "<table style=\"margin: auto;\"><tr><td><a href=\"https://mybinder.org/v2/gh/marcocrowe/learn-mathematical-methods/master?filepath=exam-2022-mathematical-methods-2-math06072-solution.ipynb\" target=\"_parent\"><img src=\"https://mybinder.org/badge_logo.svg\" alt=\"Open In Binder\"/></a></td><td>online editors</td><td><a href=\"https://colab.research.google.com/github/marcocrowe/learn-mathematical-methods/blob/master/exam-2022-mathematical-methods-2-math06072-solution.ipynb\" target=\"_parent\"><img src=\"https://colab.research.google.com/assets/colab-badge.svg\" alt=\"Open In Colab\"/></a></td></tr></table>\n"
   ]
  },
  {
   "cell_type": "markdown",
   "metadata": {},
   "source": [
    "# Mathematical Methods 2 - Exam Paper - 2022 - Summer"
   ]
  },
  {
   "cell_type": "markdown",
   "metadata": {},
   "source": [
    "## Setup"
   ]
  },
  {
   "cell_type": "code",
   "execution_count": 3,
   "metadata": {},
   "outputs": [],
   "source": [
    "from sympy import diff, exp, cos, latex, sin, symbols\n",
    "from IPython.display import display, Markdown\n",
    "\n",
    "def calculate_and_display_derivative(title, x, x_equation, y_name=\"y\"):\n",
    "    dx_dy = diff(x_equation, x)\n",
    "    # Display the derivative in LaTeX format\n",
    "    display(Markdown(f\"### {title}\"))\n",
    "    display(Markdown(\"$\\Large\\n\" + y_name + \" = \" + latex(x_equation) + r\" \\implies \\\\ \\frac{d\" + y_name + \"}{d\" + x.name + \"} = \" + latex(dx_dy) + \"$\"))"
   ]
  },
  {
   "cell_type": "markdown",
   "metadata": {},
   "source": [
    "## Instructions"
   ]
  },
  {
   "cell_type": "markdown",
   "metadata": {},
   "source": [
    "\n",
    "**Time Allowed**: 2 hours\n",
    "\n",
    "**Instructions**:  Answer 4 questions. All questions carry equal marks\n",
    "\n",
    "The use of programmable or text storing calculators is expressly forbidden.\n",
    "\n",
    "Please note that where a candidate answers more than the required number of questions, the examiner will mark all questions attempted and then select the highest scoring ones.\n",
    "\n",
    "***Requirements for this paper:***\n",
    "\n",
    "1. ***Log Tables***\n",
    "2. ***Calculators***\n"
   ]
  },
  {
   "cell_type": "markdown",
   "metadata": {},
   "source": [
    "## Question 1 (Total Marks 25)"
   ]
  },
  {
   "cell_type": "markdown",
   "metadata": {},
   "source": [
    "\n",
    "Differentiate the following with respect to the variable:\n",
    "\n",
    "| Question |                         |               |\n",
    "|----------|-------------------------|---------------|\n",
    "| 1.       | $s=3t^{4.5}-5t^{-2}$    | **(3 Marks)** |\n",
    "| 2.       | $y=5e^{3x}$             | **(2 Marks)** |\n",
    "| 3.       | $s=\\dfrac{5}{t^{3}}$    | **(3 Marks)** |\n",
    "| 4.       | $y=\\cos 3x + 3 \\sin 2x$ | **(4 Marks)** |\n",
    "| 5.       | $y=(x^2 + 2)^4$         | **(3 Marks)** |\n",
    "| 6.       | $y=\\dfrac{2x+1}{x^2-3}$ | **(5 Marks)** |\n",
    "| 7.       | $y=2x^3\\cos 3x$         | **(5 Marks)** |"
   ]
  },
  {
   "cell_type": "markdown",
   "metadata": {},
   "source": [
    "### Question 1 Notes"
   ]
  },
  {
   "cell_type": "markdown",
   "metadata": {},
   "source": [
    "<details>\n",
    "<summary>Differentiation Formulae</summary>\n",
    "\n",
    "1. **Power Rule**:\n",
    "   - For a function $f(x) = x^n$, the derivative is $f'(x) = n x^{n-1}$.\n",
    "2. **Constant Rule**:\n",
    "   - The derivative of a constant $c$ is $0$.\n",
    "   - If $f(x) = c$, then $f'(x) = 0$.\n",
    "3. **Constant Multiple Rule**:\n",
    "   - For a function $f(x) = c \\cdot g(x)$, where $c$ is a constant, the derivative is $f'(x) = c \\cdot g'(x)$.\n",
    "4. **Sum Rule**:\n",
    "   - For functions $f(x) = g(x) + h(x)$, the derivative is $f'(x) = g'(x) + h'(x)$.\n",
    "5. **Difference Rule**:\n",
    "   - For functions $f(x) = g(x) - h(x)$, the derivative is $f'(x) = g'(x) - h'(x)$.\n",
    "6. **Product Rule**:\n",
    "   - For functions $f(x) = g(x) \\cdot h(x)$, the derivative is $f'(x) = g'(x) \\cdot h(x) + g(x) \\cdot h'(x)$.\n",
    "7. **Quotient Rule**:\n",
    "   - For functions $f(x) = \\frac{g(x)}{h(x)}$, the derivative is\n",
    "\n",
    "     $$f'(x) = \\frac{g'(x) \\cdot h(x) - g(x) \\cdot h'(x)}{[h(x)]^2}.$$\n",
    "8. **Chain Rule**:\n",
    "   - For a composite function $f(x) = g(h(x))$, the derivative is\n",
    "\n",
    "     $$f'(x) = g'(h(x)) \\cdot h'(x).$$\n",
    "9. **Derivative of Exponential Functions**:\n",
    "   - For $f(x) = e^x$, the derivative is $f'(x) = e^x$.\n",
    "   - For $f(x) = a^x$, where $a$ is a constant, the derivative is $f'(x) = a^x \\ln(a)$.\n",
    "10. **Derivative of Logarithmic Functions**:\n",
    "    - For $f(x) = \\ln(x)$, the derivative is $f'(x) = \\frac{1}{x}$.\n",
    "    - For $f(x) = \\log_a(x)$, the derivative is $f'(x) = \\frac{1}{x \\ln(a)}$.\n",
    "11. **Derivative of Trigonometric Functions**:\n",
    "    - For $f(x) = \\sin(x)$, the derivative is $f'(x) = \\cos(x)$.\n",
    "    - For $f(x) = \\cos(x)$, the derivative is $f'(x) = -\\sin(x)$.\n",
    "    - For $f(x) = \\tan(x)$, the derivative is $f'(x) = \\sec^2(x)$.\n",
    "    - For $f(x) = \\cot(x)$, the derivative is $f'(x) = -\\csc^2(x)$.\n",
    "    - For $f(x) = \\sec(x)$, the derivative is $f'(x) = \\sec(x) \\cdot \\tan(x)$.\n",
    "    - For $f(x) = \\csc(x)$, the derivative is $f'(x) = -\\csc(x) \\cdot \\cot(x)$.\n",
    "12. **Derivative of Inverse Trigonometric Functions**:\n",
    "    - For $f(x) = \\arcsin(x)$, the derivative is $f'(x) = \\frac{1}{\\sqrt{1 - x^2}}$.\n",
    "    - For $f(x) = \\arccos(x)$, the derivative is $f'(x) = -\\frac{1}{\\sqrt{1 - x^2}}$.\n",
    "    - For $f(x) = \\arctan(x)$, the derivative is $f'(x) = \\frac{1}{1 + x^2}$.\n",
    "\n",
    "These rules help simplify the process of finding derivatives and are essential tools for solving calculus problems.\n",
    "</details>"
   ]
  },
  {
   "cell_type": "markdown",
   "metadata": {},
   "source": [
    "### Question 1.1 Answer\n",
    "\n",
    "$\\textbf{Given }s=3t^{4.5}-5t^{-2} \\textbf{ find the derivative } \\dfrac{ds}{dt}$\n",
    "\n",
    "$\\textbf {Since } s \\textbf{ is the sum of two functions, the sum rule applies:}$\n",
    "\n",
    "$$s = g(t) + h(t) \\implies \\dfrac{ds}{dt} = g'(t) + h'(t)$$\n",
    "\n",
    "$\\therefore \\text{in the context of } s, \\text{ let } g(t) = 3t^{4.5}, h(t) = -5t^{-2}$\n",
    "\n",
    "$\\textbf{Since } g(t) \\textbf{ and } h(t) \\textbf{ are power functions, the power rule applies:}$\n",
    "\n",
    "$$f(t) = a \\cdot t^n \\implies f'(t) = a \\cdot n \\cdot t^{n-1}$$\n",
    "\n",
    "$\\text{In the context of } g(t) \\text{ let } a = 3, n = 4.5$  \n",
    "$\\therefore g'(t) = 3 \\cdot 4.5 \\cdot t^{4.5-1} = \\bf{13.5t^{3.5}}$\n",
    "\n",
    "$\\text{In the context of } h(t) \\text{ let } a = -5, n = -2$  \n",
    "$\\therefore h'(t) = -5 \\cdot -2 \\cdot t^{-2-1} = \\bf{10t^{-3}}$\n",
    "\n",
    "$\\textbf{Combining the derivatives } g'(t) + h'(t)$  \n",
    "$\\dfrac{ds}{dt} = g'(t) + h'(t) = \\bf{13.5t^{3.5} + 10t^{-3}}$\n",
    "\n",
    "$$\\textbf{Answer: } \\boxed{\\dfrac{ds}{dt} = 13.5t^{3.5} + 10t^{-3}}$$"
   ]
  },
  {
   "cell_type": "markdown",
   "metadata": {},
   "source": [
    "### Question 1.7 Answer"
   ]
  },
  {
   "cell_type": "markdown",
   "metadata": {},
   "source": [
    "Given $y=2x^3\\cos 3x \\text{ find } \\frac{dy}{dx}$\n",
    "\n",
    "Since y is the product of two functions, the product rule applies:\n",
    "\n",
    "$\\frac{d}{dx}[u(x) \\cdot v(x)] = u'(x) \\cdot v(x) + u(x) \\cdot v'(x)$\n",
    "\n",
    "1. **Identify the functions $u(x)$ and $v(x)$** that you need to differentiate.\n",
    "2. **Differentiate $u(x)$ to get $u'(x)$**.\n",
    "3. **Differentiate $v(x)$ to get $v'(x)$**.\n",
    "4. **Apply the product rule formula** to get the derivative of the product.\n",
    "\n",
    "---\n",
    "\n",
    "1. **Identify the functions $u(x)$ and $v(x)$** that you need to differentiate.\n",
    "  $y=2x^3\\cos 3x \\\\\n",
    "u = 2x^3 \\\\\n",
    "v = \\cos 3x $  \n",
    "2. **Differentiate $u(x)$ to get $u'(x)$**.  \n",
    "$\\text{Since } u \\text{ is a power function, apply the power rule } a \\cdot x^n \\text{ where } a = 2, n = 3 \\\\\n",
    "\\therefore u'(x) = 3 \\times 2x^{3-1} = 6x^2$  \n",
    "3. **Differentiate $v(x)$ to get $v'(x)$**.  \n",
    "Since $v(x)$ is a cosine function, we use the chain rule to differentiate it. The chain rule states that the derivative of a composite function is the derivative of the outer function evaluated at the inner function times the derivative of the inner function.\n",
    "   $v(x) = \\cos 3x \\\\ \\ \\\\\n",
    "\\text{rule when } v = \\cos(g(x)) \\text{, then} \\\\\n",
    "v'(x) = -\\sin(g(x)) \\cdot g'(x) \\\\\n",
    "g(x) = 3x \\\\\n",
    "\\therefore g'(x) = 3 \\\\\n",
    "\\therefore v'(x) = -\\sin(3(x)) \\cdot 3$\n",
    "4. **Apply the product rule formula** to get the derivative of the product.\n",
    "   $\\frac{d}{dx}[u(x) \\cdot v(x)] = u'(x) \\cdot v(x) + u(x) \\cdot v'(x) \\\\ \\ \\\\\n",
    "y=2x^3\\cos 3x \\\\\n",
    "u'(x) = 6x^2 \\\\\n",
    "v(x) = \\cos 3x \\\\\n",
    "u(x) = 2x^3 \\\\\n",
    "v'(x) = -3\\sin 3x \\\\\n",
    "\\frac{d}{dx}[2x^3\\cos 3x] = 6x^2 \\cdot \\cos 3x + 2x^3(-3\\sin 3x) \\\\\n",
    "\\frac{dy}{dx} = 6x^2 \\cos 3x - 6x^3 \\sin 3x$  \n",
    "$$\\boxed{6x^2 \\cos 3x - 6x^3 \\sin 3x}$$"
   ]
  },
  {
   "cell_type": "markdown",
   "metadata": {},
   "source": [
    "### Question 1 Python Verification"
   ]
  },
  {
   "cell_type": "code",
   "execution_count": 5,
   "metadata": {},
   "outputs": [
    {
     "data": {
      "text/markdown": [
       "### Question 1.1"
      ],
      "text/plain": [
       "<IPython.core.display.Markdown object>"
      ]
     },
     "metadata": {},
     "output_type": "display_data"
    },
    {
     "data": {
      "text/markdown": [
       "$\\Large\n",
       "s = 3 t^{4.5} - \\frac{5}{t^{2}} \\implies \\\\ \\frac{ds}{dt} = 13.5 t^{3.5} + \\frac{10}{t^{3}}$"
      ],
      "text/plain": [
       "<IPython.core.display.Markdown object>"
      ]
     },
     "metadata": {},
     "output_type": "display_data"
    },
    {
     "data": {
      "text/markdown": [
       "### Question 1.2"
      ],
      "text/plain": [
       "<IPython.core.display.Markdown object>"
      ]
     },
     "metadata": {},
     "output_type": "display_data"
    },
    {
     "data": {
      "text/markdown": [
       "$\\Large\n",
       "y = 5 e^{3 x} \\implies \\\\ \\frac{dy}{dx} = 15 e^{3 x}$"
      ],
      "text/plain": [
       "<IPython.core.display.Markdown object>"
      ]
     },
     "metadata": {},
     "output_type": "display_data"
    },
    {
     "data": {
      "text/markdown": [
       "### Question 1.3"
      ],
      "text/plain": [
       "<IPython.core.display.Markdown object>"
      ]
     },
     "metadata": {},
     "output_type": "display_data"
    },
    {
     "data": {
      "text/markdown": [
       "$\\Large\n",
       "s = \\frac{5}{t^{3}} \\implies \\\\ \\frac{ds}{dt} = - \\frac{15}{t^{4}}$"
      ],
      "text/plain": [
       "<IPython.core.display.Markdown object>"
      ]
     },
     "metadata": {},
     "output_type": "display_data"
    },
    {
     "data": {
      "text/markdown": [
       "### Question 1.4"
      ],
      "text/plain": [
       "<IPython.core.display.Markdown object>"
      ]
     },
     "metadata": {},
     "output_type": "display_data"
    },
    {
     "data": {
      "text/markdown": [
       "$\\Large\n",
       "y = 3 \\sin{\\left(2 x \\right)} + \\cos{\\left(3 x \\right)} \\implies \\\\ \\frac{dy}{dx} = - 3 \\sin{\\left(3 x \\right)} + 6 \\cos{\\left(2 x \\right)}$"
      ],
      "text/plain": [
       "<IPython.core.display.Markdown object>"
      ]
     },
     "metadata": {},
     "output_type": "display_data"
    },
    {
     "data": {
      "text/markdown": [
       "### Question 1.5"
      ],
      "text/plain": [
       "<IPython.core.display.Markdown object>"
      ]
     },
     "metadata": {},
     "output_type": "display_data"
    },
    {
     "data": {
      "text/markdown": [
       "$\\Large\n",
       "y = \\left(x^{2} + 2\\right)^{4} \\implies \\\\ \\frac{dy}{dx} = 8 x \\left(x^{2} + 2\\right)^{3}$"
      ],
      "text/plain": [
       "<IPython.core.display.Markdown object>"
      ]
     },
     "metadata": {},
     "output_type": "display_data"
    },
    {
     "data": {
      "text/markdown": [
       "### Question 1.6"
      ],
      "text/plain": [
       "<IPython.core.display.Markdown object>"
      ]
     },
     "metadata": {},
     "output_type": "display_data"
    },
    {
     "data": {
      "text/markdown": [
       "$\\Large\n",
       "y = \\frac{2 x + 1}{x^{2} - 3} \\implies \\\\ \\frac{dy}{dx} = - \\frac{2 x \\left(2 x + 1\\right)}{\\left(x^{2} - 3\\right)^{2}} + \\frac{2}{x^{2} - 3}$"
      ],
      "text/plain": [
       "<IPython.core.display.Markdown object>"
      ]
     },
     "metadata": {},
     "output_type": "display_data"
    },
    {
     "data": {
      "text/markdown": [
       "### Question 1.7"
      ],
      "text/plain": [
       "<IPython.core.display.Markdown object>"
      ]
     },
     "metadata": {},
     "output_type": "display_data"
    },
    {
     "data": {
      "text/markdown": [
       "$\\Large\n",
       "y = 2 x^{3} \\cos{\\left(3 x \\right)} \\implies \\\\ \\frac{dy}{dx} = - 6 x^{3} \\sin{\\left(3 x \\right)} + 6 x^{2} \\cos{\\left(3 x \\right)}$"
      ],
      "text/plain": [
       "<IPython.core.display.Markdown object>"
      ]
     },
     "metadata": {},
     "output_type": "display_data"
    }
   ],
   "source": [
    "t = symbols('t')\n",
    "s = 3 * t**4.5 - 5 * t**-2\n",
    "\n",
    "calculate_and_display_derivative(\"Question 1.1\", t, s, 's')\n",
    "\n",
    "x = symbols('x')\n",
    "y = 5 * exp(3*x)\n",
    "\n",
    "calculate_and_display_derivative(\"Question 1.2\", x, y)\n",
    "\n",
    "s=5/t**3\n",
    "calculate_and_display_derivative(\"Question 1.3\", t, s, 's')\n",
    "\n",
    "y = cos(3*x) + 3 * sin(2*x)\n",
    "calculate_and_display_derivative(\"Question 1.4\", x, y)\n",
    "\n",
    "y = (x**2 + 2)**4\n",
    "calculate_and_display_derivative(\"Question 1.5\", x, y)\n",
    "\n",
    "y = (2 * x + 1) / (x**2 -3)\n",
    "calculate_and_display_derivative(\"Question 1.6\", x, y)\n",
    "\n",
    "y = 2 * x**3 * cos(3*x)\n",
    "calculate_and_display_derivative(\"Question 1.7\", x, y)\n"
   ]
  },
  {
   "cell_type": "markdown",
   "metadata": {},
   "source": [
    "## Question 2 (Total Marks 25)"
   ]
  },
  {
   "cell_type": "markdown",
   "metadata": {},
   "source": [
    "### Question 2(a) (7 Marks)"
   ]
  },
  {
   "cell_type": "markdown",
   "metadata": {},
   "source": [
    "\n",
    "A surveyor measures the angle of elevation of the top of a perpendicular building as 19°. He moves 120 meters nearer the building and finds the angle of elevation is now 47°. Determine the height of the building."
   ]
  },
  {
   "cell_type": "markdown",
   "metadata": {},
   "source": [
    "#### Question 2(a) Answer"
   ]
  },
  {
   "cell_type": "markdown",
   "metadata": {},
   "source": [
    "The height of the building can be calculated using the tangent of the angle of elevation.\n",
    "\n",
    "Let h be the height of the building and d be the distance from the surveyor to the building.\n",
    "\n",
    "$\\tan(19) = \\dfrac{h}{d}$\n",
    "\n",
    "Then he moves 120m nearer the building, so the distance from the surveyor to the building is now $d - 120$.\n",
    "\n",
    "$\\tan(47) = \\dfrac{h}{d - 120}$\n",
    "\n",
    "Solve the two equations simultaneously to find the height of the building.\n",
    "\n",
    "$h=d\\times \\tan(19)$ and $h=(d-120) \\times \\tan(47) \\\\\n",
    "d\\times \\tan(19) = (d-120) \\times \\tan(47) \\\\\n",
    "d\\times \\tan(19) = d\\times \\tan(47) - 120 \\times \\tan(47) \\\\\n",
    "d\\times \\tan(19) - d\\times \\tan(47) = - 120 \\times \\tan(47) \\\\\n",
    "d(\\tan(19) - \\tan(47)) = - 120 \\times \\tan(47) \\\\\n",
    "d = \\dfrac{- 120 \\times \\tan(47)}{(\\tan(19) - \\tan(47))} \\\\\n",
    "d = \\dfrac{-120 \\times 1.072}{0.344 - 1.072} \\\\\n",
    "d = \\dfrac{-128.64}{-0.728} \\\\\n",
    "d = 176.75$"
   ]
  },
  {
   "cell_type": "markdown",
   "metadata": {},
   "source": [
    "### Question 2(b) (9 Marks)"
   ]
  },
  {
   "cell_type": "markdown",
   "metadata": {},
   "source": [
    "Identify the following graphs. State the period and the range:\n",
    "\n",
    "| #  | Graph                                                                                   |\n",
    "|----|-----------------------------------------------------------------------------------------|\n",
    "| 1. | ![Question 2-b-1](images/exam-2022-mathematical-methods-2-math06072-paper/question-2-b-1.png) |\n",
    "| 2. | ![Question 2-b-2](images/exam-2022-mathematical-methods-2-math06072-paper/question-2-b-2.png) |\n",
    "| 3. | ![Question 2-b-3](images/exam-2022-mathematical-methods-2-math06072-paper/question-2-b-3.png) |"
   ]
  },
  {
   "cell_type": "markdown",
   "metadata": {},
   "source": [
    "#### Question 2(b) Answer"
   ]
  },
  {
   "cell_type": "markdown",
   "metadata": {},
   "source": [
    "To identify the graphs, we need to consider the shape of the graph and the period and range of the function.\n",
    "\n",
    "- The range of a function is the set of all possible 'y' values that the function can take.\n",
    "- The period of a function is the distance between two consecutive peaks or troughs of the function on the x-axis.\n",
    "- The shape of the graph can help identify the type of function it represents.\n",
    "\n",
    "\n",
    "| #  | Graph                                                                                   | Identified Function | Period  | Range    |\n",
    "|----|-----------------------------------------------------------------------------------------|---------------------|---------|----------|\n",
    "| 1. | ![Question 2-b-1](images/exam-2022-mathematical-methods-2-math06072-paper/question-2-b-1.png) |sine graph | $2\\pi$ | $[-1, 1]$|\n",
    "| 2. | ![Question 2-b-2](images/exam-2022-mathematical-methods-2-math06072-paper/question-2-b-2.png) |sin graph | $2\\pi$ | $[-2, 2]$|\n",
    "| 3. | ![Question 2-b-3](images/exam-2022-mathematical-methods-2-math06072-paper/question-2-b-3.png) |cosine graph | $2\\pi$ | $[-1, 1]$|\n",
    "\n",
    "\n",
    "\n"
   ]
  }
 ],
 "metadata": {
  "kernelspec": {
   "display_name": "base",
   "language": "python",
   "name": "python3"
  },
  "language_info": {
   "codemirror_mode": {
    "name": "ipython",
    "version": 3
   },
   "file_extension": ".py",
   "mimetype": "text/x-python",
   "name": "python",
   "nbconvert_exporter": "python",
   "pygments_lexer": "ipython3",
   "version": "3.11.5"
  }
 },
 "nbformat": 4,
 "nbformat_minor": 2
}
