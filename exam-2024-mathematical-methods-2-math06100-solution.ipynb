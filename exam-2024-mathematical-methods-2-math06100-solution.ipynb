{
 "cells": [
  {
   "cell_type": "markdown",
   "metadata": {},
   "source": [
    "<!--\n",
    "import data_analytics.github as github\n",
    "print(github.create_jupyter_notebook_header(\"marcocrowe\", \"learn-mathematical-methods\", \"exam-2024-mathematical-methods-2-math06100-solution.ipynb\", \"master\"))\n",
    "-->\n",
    "<table style=\"margin: auto;\"><tr><td><a href=\"https://mybinder.org/v2/gh/marcocrowe/learn-mathematical-methods/master?filepath=exam-2024-mathematical-methods-2-math06100-solution.ipynb\" target=\"_parent\"><img src=\"https://mybinder.org/badge_logo.svg\" alt=\"Open In Binder\"/></a></td><td>online editors</td><td><a href=\"https://colab.research.google.com/github/marcocrowe/learn-mathematical-methods/blob/master/exam-2024-mathematical-methods-2-math06100-solution.ipynb\" target=\"_parent\"><img src=\"https://colab.research.google.com/assets/colab-badge.svg\" alt=\"Open In Colab\"/></a></td></tr></table>\n"
   ]
  },
  {
   "cell_type": "markdown",
   "metadata": {},
   "source": [
    "# Mathematical Methods 2 - Exam Paper - 2023 - Summer"
   ]
  },
  {
   "cell_type": "markdown",
   "metadata": {},
   "source": [
    "## Setup"
   ]
  },
  {
   "cell_type": "code",
   "execution_count": 1,
   "metadata": {},
   "outputs": [],
   "source": [
    "from sympy import diff, exp, cos, latex, ln, sin, solve, symbols\n",
    "from IPython.display import display, Markdown\n",
    "\n",
    "def calculate_and_display_derivative(title:str , x, x_equation, y_name:str=\"y\"):\n",
    "    dx_dy = diff(x_equation, x)\n",
    "    # Display the derivative in LaTeX format\n",
    "    display(Markdown(f\"### {title}\"))\n",
    "    display(Markdown(\"$\\Large\\n\" + y_name + \" = \" + latex(x_equation) + r\" \\implies \\\\ \\frac{d\" + y_name + \"}{d\" + x.name + \"} = \" + latex(dx_dy) + \"$\"))"
   ]
  },
  {
   "cell_type": "markdown",
   "metadata": {},
   "source": [
    "## Instructions"
   ]
  },
  {
   "cell_type": "markdown",
   "metadata": {},
   "source": [
    "\n",
    "**Time Allowed**: 2 hours\n",
    "\n",
    "**Instructions**:  Answer 4 questions. All questions carry equal marks\n",
    "\n",
    "The use of programmable or text storing calculators is expressly forbidden.\n",
    "\n",
    "Please note that where a candidate answers more than the required number of questions, the examiner will mark all questions attempted and then select the highest scoring ones.\n",
    "\n",
    "***Requirements for this paper:***\n",
    "\n",
    "1. ***Log Tables***\n",
    "2. ***Calculators***\n"
   ]
  },
  {
   "cell_type": "markdown",
   "metadata": {},
   "source": [
    "## Question 1 (Total Marks 25)"
   ]
  },
  {
   "cell_type": "markdown",
   "metadata": {},
   "source": [
    "### Question 1(a) [12 Marks]"
   ]
  },
  {
   "cell_type": "markdown",
   "metadata": {},
   "source": [
    "Solve the triangle shown below:\n",
    "\n",
    "![Figure 1](images/exam-2024-mathematical-methods-2-math06100-paper/figure-1.png)"
   ]
  },
  {
   "cell_type": "markdown",
   "metadata": {},
   "source": [
    "### Question 1(b) [3 Marks]"
   ]
  },
  {
   "cell_type": "markdown",
   "metadata": {},
   "source": [
    "When the angle of elevation of the sun is 10°, an upright flagpole casts a shadow of length of 20m. Calculate the height of the pole."
   ]
  },
  {
   "cell_type": "markdown",
   "metadata": {},
   "source": [
    "### Question 1(c) [4 Marks]"
   ]
  },
  {
   "cell_type": "markdown",
   "metadata": {},
   "source": [
    "\n",
    "\n",
    "Given $2.3\\ln{\\dfrac{1.3}{x^2}}=9.1$, Solve for x:"
   ]
  },
  {
   "cell_type": "markdown",
   "metadata": {},
   "source": [
    "#### Question 1(c) Answer"
   ]
  },
  {
   "cell_type": "markdown",
   "metadata": {},
   "source": [
    "<details>\n",
    "<summary>A Note on ln</summary>\n",
    "What is the difference between ln and log?\n",
    "\n",
    "$\\ln$ is the natural logarithm i.e. $$\\ln{x} = \\log_{e}{x}$$\n",
    "\n",
    "So for any of the log rules, e.g the quotient rule:  \n",
    "$$\\log_{c}{\\dfrac{a}{b}} = \\log_{c}{a} - \\log_{c}{b}$$  \n",
    "for natural logarithms, substitute $c=e$ to get the natural logarithm rule for quotients:  \n",
    "$$\\log_e{\\dfrac{a}{b}} = \\log_e{a} - \\log_e{b}$$  \n",
    "and $\\log_e{x} = \\ln{x}$ so the rule becomes:  \n",
    "$$\\ln{\\dfrac{a}{b}} = \\ln{a} - \\ln{b}$$\n",
    "\n",
    "---\n",
    "</details>\n",
    "\n",
    "$2.3\\ln{\\dfrac{1.3}{x^2}}=9.1$\n",
    "\n",
    "The log quotient rule $\\ln{\\dfrac{a}{b}} = \\ln{a} - \\ln{b}$ applies to $\\ln{\\dfrac{1.3}{x^2}}$  \n",
    "$\\therefore \\ln({\\dfrac{1.3}{x^2}}) = \\ln({1.3}) - \\ln({x^2})$\n",
    "\n",
    "$2.3(\\ln({1.3}) - \\ln({x^2}))=9.1$  \n",
    "$2.3\\ln({1.3}) - 2.3\\ln({x^2})=9.1$\n",
    "\n",
    "The power rule for logarithms states that $\\log_{b}{x^n} = n\\log_{b}{x}$\n",
    "$\\therefore \\ln({x^2}) = 2\\ln({x})$\n",
    "\n",
    "$2.3\\ln({1.3}) - 2.3(2\\ln({x}))=9.1$  \n",
    "$2.3\\ln({1.3}) - 4.6\\ln({x})=9.1$  \n",
    "$2.3\\ln({1.3}) - 9.1=4.6\\ln({x})$  \n",
    "$\\dfrac{2.3\\ln({1.3}) - 9.1}{4.6}=\\ln({x})$  \n",
    "$\\ln({x}) = \\dfrac{2.3\\ln({1.3}) - 9.1}{4.6}$\n",
    "\n",
    "Inverse Property of Logarithms and Exponentials: If $ln(a)=b$, then $a=e^b$.  \n",
    "This means that for any real number $k$, $ln(x)=k$ is equivalent to $x=e^k$.\n",
    "\n",
    "Let $k=\\dfrac{2.3\\ln({1.3}) - 9.1}{4.6}$\n",
    "$ln(1.3) \\approx 0.2624$\n",
    "\n",
    "$k \\approx \\frac{2.3 \\times 0.2624 - 9.1}{4.6} \\approx \\frac{0.6048 - 9.1}{4.6} \\approx \\frac{-8.4952}{4.6} \\approx -1.8470$\n",
    "\n",
    "$x = e^{\\dfrac{2.3\\ln({1.3}) - 9.1}{4.6}}$\n",
    "\n",
    "$\\therefore ln(x)\\approx k \\approx -1.8470$\n",
    "$\\therefore x=e^{-1.8470} \\approx 0.157$\n",
    "\n",
    "$\\boxed{x \\approx 0.157}$"
   ]
  },
  {
   "cell_type": "code",
   "execution_count": 5,
   "metadata": {},
   "outputs": [
    {
     "data": {
      "text/plain": [
       "[-0.157697168944812, 0.157697168944812]"
      ]
     },
     "execution_count": 5,
     "metadata": {},
     "output_type": "execute_result"
    }
   ],
   "source": [
    "# Define the variable\n",
    "x = symbols('x')\n",
    "\n",
    "# Define the equation\n",
    "equation = 2.3 * ln(1.3 / x**2) - 9.1\n",
    "\n",
    "# Isolate the logarithm term\n",
    "isolated_log = solve(equation, x)\n",
    "\n",
    "isolated_log\n"
   ]
  },
  {
   "cell_type": "markdown",
   "metadata": {},
   "source": [
    "The SymPy library provides two solutions to the equation\n",
    "\n",
    "However, since the logarithm of a negative number is not defined in the real number system, the valid solution is:\n",
    "\n",
    "$ x \\approx 0.1577 $"
   ]
  },
  {
   "cell_type": "markdown",
   "metadata": {},
   "source": [
    "### Question 1(d) [6 Marks]"
   ]
  },
  {
   "cell_type": "markdown",
   "metadata": {},
   "source": [
    "For the function shown below, determine the second order differential $f(x)$.\n",
    "\n",
    "$f(x) =-6x+\\frac{1}{\\sqrt[3]{x}} - \\frac{1}{4x^3}$"
   ]
  },
  {
   "cell_type": "markdown",
   "metadata": {},
   "source": [
    "#### Question 1(d) Answer\n",
    "\n",
    "The first order differential of $f(x)$ is: $f'(x)$  \n",
    "The second order differential of $f(x)$ is: $f''(x)$  i.e. the derivative of $f'(x) = f''(x)$\n",
    "\n",
    "$f(x) =-6x+\\frac{1}{\\sqrt[3]{x}} - \\frac{1}{4x^3}$  \n",
    "\n",
    "\n",
    "The sum and difference rules to differentiate $f(x)$ are:\n",
    "\n",
    "$$f(x) = g(x) + h(x) \\implies f'(x) = g'(x) + h'(x)$$\n",
    "\n",
    "$$f(x)= g(x) - h(x) \\implies f'(x) = g'(x) - h'(x)$$\n",
    "\n",
    "For each term in $f(x)$, the derivative is:\n",
    "\n",
    "1. $g(x) = -6x$  \n",
    "2. $h(x) = \\frac{1}{\\sqrt[3]{x}}$  \n",
    "3. $i(x) = \\frac{1}{4x^3}$\n",
    "\n",
    "For (1) $g(x)$ we apply the constant multiple rule:\n",
    "\n",
    "$$g(x) = c \\cdot x \\implies g'(x) = c$$\n",
    "\n",
    "$$\\dfrac{d}{dx}(-6x) = -6\\dfrac{d}{dx}(x) = -6$$\n",
    "\n",
    "For 2. $h(x)$ we apply the power rule:\n",
    "\n",
    "$$h(x) = a \\cdot x^n \\implies h'(x) = a \\cdot n \\cdot x^{n-1}$$  \n",
    "$h(x) = \\frac{1}{\\sqrt[3]{x}} = x^{-\\frac{1}{3}}$, $a=1$, $n=-\\frac{1}{3}$  \n",
    "$h'(x) = -\\frac{1}{3} \\cdot x^{(-\\frac{1}{3}-1)} = -\\frac{1}{3} \\cdot x^{-\\frac{4}{3}} = -\\frac{1}{3} \\cdot \\frac{1}{x^{\\frac{4}{3}}} = -\\frac{1}{3x^{\\frac{4}{3}}}$  \n",
    "\n",
    "For 3. $i(x)$ we apply the power rule:\n",
    "\n",
    "$$i(x) = a \\cdot x^n \\implies i'(x) = a \\cdot n \\cdot x^{n-1}$$  \n",
    "\n",
    "$i(x) = \\frac{1}{4x^3}$ = $\\frac{1}{4} \\cdot x^{-3}$, $a=\\frac{1}{4}$, $n=-3$  \n",
    "$i'(x) = -3 \\cdot \\frac{1}{4} \\cdot x^{(-3-1)} = -\\frac{3}{4} \\cdot x^{-4} = -\\frac{3}{4x^4}$  \n",
    "\n",
    "\n",
    "Therefore, the first order differential of $f(x)$ is:\n",
    "\n",
    "$f'(x) = g(x) + h(x) - i(x)$  \n",
    "\n",
    "$${f'(x) = -6 - \\frac{1}{3x^{\\frac{4}{3}}} - \\frac{3}{4x^4}}$$\n",
    "\n",
    "The second order differential of $f(x)$ is:\n",
    "\n",
    "$f''(x) = \\frac{d}{dx}(-6 - \\frac{1}{3x^{\\frac{4}{3}}} - \\frac{3}{4x^4})$\n",
    "\n",
    "The sum and difference rules to differentiate $f'(x)$ are:\n",
    "\n",
    "$$f'(x) = g'(x) + h'(x) \\implies f''(x) = g''(x) + h''(x)$$  \n",
    "$$f'(x) = g'(x) - h'(x) \\implies f''(x) = g''(x) - h''(x)$$  \n",
    "\n",
    "$\\therefore f''(x) = -6 - \\frac{1}{3x^{\\frac{4}{3}}} - \\frac{3}{4x^4}$\n",
    "\n",
    "Label the terms in the second order differential of $f(x)$ as $g'(x)$, $h'(x)$, $i'(x)$:\n",
    "\n",
    "1. $g'(x) = -6$  \n",
    "2. $h'(x) = -\\frac{1}{3x^{\\frac{4}{3}}} = -\\frac{1}{3} \\cdot \\frac{1}{x^{\\frac{4}{3}}} = -\\frac{1}{3} \\cdot x^{-\\frac{4}{3}}$  \n",
    "3. $i'(x) = -\\frac{3}{4x^4} = -\\frac{3}{4} \\cdot x^{-4}$\n",
    "\n",
    "Differentiating $g'(x)$, $h'(x)$, $i'(x)$:\n",
    "\n",
    "1. Applying the constant multiple rule to $g'(x) = -6$:  \n",
    "   $\\therefore g'(x) = -6$  \n",
    "2. Applying the power rule to $h'(x), a=-\\frac{1}{3}$, $n=-\\frac{4}{3}$  \n",
    "   $\\therefore h''(x) = -\\frac{4}{3} \\cdot -\\frac{1}{3} \\cdot x^{(-\\frac{4}{3}-1)} = \\frac{4}{9} \\cdot x^{-\\frac{7}{3}} = \\frac{4}{9x^{\\frac{7}{3}}}$  \n",
    "3. Applying the power rule to $i'(x), a=-\\frac{3}{4}$, $n=-4$  \n",
    "   $\\therefore i''(x) = -4 \\cdot -\\frac{3}{4} \\cdot x^{(-4-1)} = 3 \\cdot x^{-5} = \\frac{3}{x^5}$\n",
    "\n",
    "Therefore, the second order differential of $f(x)$ is:\n",
    "\n",
    "$f''(x) = 0 + \\frac{4}{9x^{\\frac{7}{3}}} + \\frac{3}{x^5}$\n",
    "\n",
    "$$\\boxed{f''(x) = \\frac{4}{9x^{\\frac{7}{3}}} + \\frac{3}{x^5}}$$\n",
    "\n",
    "\n",
    "\n",
    "\n",
    "\n",
    "\n",
    "\n",
    "\n",
    "\n"
   ]
  },
  {
   "cell_type": "markdown",
   "metadata": {},
   "source": [
    "### Question 2(b) [8 Marks]"
   ]
  },
  {
   "cell_type": "markdown",
   "metadata": {},
   "source": [
    "\n",
    "Differentiate the following with respect to the variable:\n",
    "\n",
    "1. $y = \\dfrac{5}{3e^{4x}}$\n",
    "2. $y = \\frac{4}{7}e^{-\\frac{2}{4}x}$\n",
    "3. $y = \\frac{2}{3}\\ln{3\\pi x}$\n",
    "4. $y = 3\\sin{2\\theta} - 2\\cos{4\\theta}$"
   ]
  },
  {
   "cell_type": "markdown",
   "metadata": {},
   "source": [
    "#### Question 2(b).3 Answer\n",
    "\n",
    "Differentiate $y = \\frac{2}{3}\\ln{3\\pi x}$  \n",
    "\n",
    "Log Rule: $\\log(ab) = \\log(a) + \\log(b)$\n",
    "\n",
    "$\\ln{3\\pi x} = \\ln{3} + \\ln{\\pi} + \\ln{x}$\n",
    "\n",
    "So y = $\\frac{2}{3}(\\ln{3} + \\ln{\\pi} + \\ln{x})$\n",
    "\n",
    "The sum rule for differentiation applies $\\dfrac{d}{dx}(f(x) + g(x)) = f'(x) + g'(x)$\n",
    "\n",
    "Label the terms in $y$ as $g(x)$, $h(x)$, $i(x)$:\n",
    "\n",
    "Differentiating $g(x)$, $h(x)$, $i(x)$:\n",
    "\n",
    "1. $g(x) = \\frac{2}{3}\\ln{3}$\n",
    "2. $h(x) = \\frac{2}{3}\\ln{\\pi}$\n",
    "3. $i(x) = \\frac{2}{3}\\ln{x}$\n",
    "\n",
    "The derivative of log of a constant is zero, so the derivative of $g(x)$, $h(x)$, $i(x)$ is:\n",
    "\n",
    "1. $\\dfrac{d}{dx}(\\frac{2}{3}\\ln{3}) = 0$  \n",
    "2. $\\dfrac{d}{dx}(\\frac{2}{3}\\ln{\\pi}) = 0$  \n",
    "3. $\\dfrac{d}{dx}(\\frac{2}{3}\\ln{x}) = \\frac{2}{3} \\cdot \\frac{1}{x} = \\frac{2}{3x}$:\n",
    "\n",
    "\n",
    "Sum the derivatives of $g(x)$, $h(x)$, $i(x)$:\n",
    "\n",
    "$\\dfrac{d}{dx}(0 + 0 + \\frac{2}{3x}) = 0 + 0 + \\frac{2}{3x}$\n",
    "\n",
    "$$\\boxed{\\dfrac{d}{dx}(\\frac{2}{3}\\ln{3\\pi x}) = \\frac{2}{3x}}$$\n",
    "\n",
    "Note: if you Have $k\\ln({c \\cdot x}), \\text{ where k and c are constants, then the derivative is } k\\cdot \\dfrac{1}{x}$"
   ]
  },
  {
   "cell_type": "markdown",
   "metadata": {},
   "source": [
    "#### Question 2(b).4 Answer"
   ]
  },
  {
   "cell_type": "markdown",
   "metadata": {},
   "source": [
    "$y = 3\\sin{2\\theta} - 2\\cos{4\\theta}$\n",
    "\n",
    "The difference rule applies to the differentiation of $y$:\n",
    "\n",
    "$$\\dfrac{d}{dx}(f(x) - g(x)) = f'(x) - g'(x)$$\n",
    "\n",
    "Label the terms in $y$ as $g(x)$, $h(x)$:\n",
    "\n",
    "1. $g(x) = 3\\sin{2\\theta}$\n",
    "2. $h(x) = 2\\cos{4\\theta}$\n",
    "\n",
    "Differentiating $g(x)$, $h(x)$:\n",
    "\n",
    "1. $g(x) = 3\\sin{2\\theta}$  The rule for differentiating $\\sin{ax}$ is $a\\cos{ax}$  \n",
    "   $\\dfrac{d}{dx}(3\\sin{2\\theta}) = 3 \\cdot 2 \\cos{2\\theta} = 6\\cos{2\\theta}$\n",
    "2. $h(x) = 2\\cos{4\\theta}$  The rule for differentiating $\\cos{ax}$ is $-a\\sin{ax}$  \n",
    "   $\\dfrac{d}{dx}(2\\cos{4\\theta}) = 2 \\cdot -4 \\sin{4\\theta} = -8\\sin{4\\theta}$\n",
    "\n",
    "Subtract the derivatives of $g(x)$, $h(x)$:\n",
    "\n",
    "$\\dfrac{d}{dx}(6\\cos{2\\theta} - (- 8\\sin{4\\theta})) = 6\\cos{2\\theta} + 8\\sin{4\\theta}$\n",
    "\n",
    "$$\\boxed{\\dfrac{d}{dx}(3\\sin{2\\theta} - 2\\cos{4\\theta}) = 6\\cos{2\\theta} + 8\\sin{4\\theta}}$$"
   ]
  },
  {
   "cell_type": "code",
   "execution_count": 3,
   "metadata": {},
   "outputs": [
    {
     "data": {
      "text/markdown": [
       "### Question 2.b.4"
      ],
      "text/plain": [
       "<IPython.core.display.Markdown object>"
      ]
     },
     "metadata": {},
     "output_type": "display_data"
    },
    {
     "data": {
      "text/markdown": [
       "$\\Large\n",
       "y = 3 \\sin{\\left(2 \\theta \\right)} - 2 \\cos{\\left(4 \\theta \\right)} \\implies \\\\ \\frac{dy}{d\\theta} = 8 \\sin{\\left(4 \\theta \\right)} + 6 \\cos{\\left(2 \\theta \\right)}$"
      ],
      "text/plain": [
       "<IPython.core.display.Markdown object>"
      ]
     },
     "metadata": {},
     "output_type": "display_data"
    }
   ],
   "source": [
    "#$y = 3\\sin{2\\theta} - 2\\cos{4\\theta}$\n",
    "\n",
    "theta = symbols(r'\\theta')\n",
    "y = 3 *sin(2*theta) - 2*cos(4*theta)\n",
    "\n",
    "calculate_and_display_derivative(\"Question 2.b.4\", theta, y, 'y')"
   ]
  },
  {
   "cell_type": "markdown",
   "metadata": {},
   "source": [
    "\n",
    "### Question 2(c) [6 Marks]"
   ]
  },
  {
   "cell_type": "markdown",
   "metadata": {},
   "source": [
    "\n",
    "Graph the function $y = \\cos{2\\theta}$ for $0° \\geq \\theta \\leq 180°$ in intervals of 20°."
   ]
  },
  {
   "cell_type": "markdown",
   "metadata": {},
   "source": [
    "\n",
    "### Question 2(d) [4 Marks]"
   ]
  },
  {
   "cell_type": "markdown",
   "metadata": {},
   "source": [
    "\n",
    "Solve the triangle, given one side of a triangle and two angles are:\n",
    "\n",
    "$$a = 2, A = 30°, B = 40°$$"
   ]
  }
 ],
 "metadata": {
  "kernelspec": {
   "display_name": "base",
   "language": "python",
   "name": "python3"
  },
  "language_info": {
   "codemirror_mode": {
    "name": "ipython",
    "version": 3
   },
   "file_extension": ".py",
   "mimetype": "text/x-python",
   "name": "python",
   "nbconvert_exporter": "python",
   "pygments_lexer": "ipython3",
   "version": "3.11.5"
  }
 },
 "nbformat": 4,
 "nbformat_minor": 2
}
