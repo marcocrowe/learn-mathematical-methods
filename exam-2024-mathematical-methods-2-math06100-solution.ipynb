{
 "cells": [
  {
   "cell_type": "markdown",
   "metadata": {},
   "source": [
    "<!--\n",
    "import data_analytics.github as github\n",
    "print(github.create_jupyter_notebook_header(\"marcocrowe\", \"learn-mathematical-methods\", \"exam-2024-mathematical-methods-2-math06100-solution.ipynb\", \"master\"))\n",
    "-->\n",
    "<table style=\"margin: auto;\"><tr><td><a href=\"https://mybinder.org/v2/gh/marcocrowe/learn-mathematical-methods/master?filepath=exam-2024-mathematical-methods-2-math06100-solution.ipynb\" target=\"_parent\"><img src=\"https://mybinder.org/badge_logo.svg\" alt=\"Open In Binder\"/></a></td><td>online editors</td><td><a href=\"https://colab.research.google.com/github/marcocrowe/learn-mathematical-methods/blob/master/exam-2024-mathematical-methods-2-math06100-solution.ipynb\" target=\"_parent\"><img src=\"https://colab.research.google.com/assets/colab-badge.svg\" alt=\"Open In Colab\"/></a></td></tr></table>\n"
   ]
  },
  {
   "cell_type": "markdown",
   "metadata": {},
   "source": [
    "# Mathematical Methods 2 - Exam Paper - 2023 - Summer"
   ]
  },
  {
   "cell_type": "markdown",
   "metadata": {},
   "source": [
    "## Setup"
   ]
  },
  {
   "cell_type": "code",
   "execution_count": 4,
   "metadata": {},
   "outputs": [],
   "source": [
    "from sympy import diff, exp, cos, latex, ln, sin, solve, symbols\n",
    "from IPython.display import display, Markdown\n",
    "\n",
    "def calculate_and_display_derivative(title, x, x_equation, y_name=\"y\"):\n",
    "    dx_dy = diff(x_equation, x)\n",
    "    # Display the derivative in LaTeX format\n",
    "    display(Markdown(f\"### {title}\"))\n",
    "    display(Markdown(\"$\\Large\\n\" + y_name + \" = \" + latex(x_equation) + r\" \\implies \\\\ \\frac{d\" + y_name + \"}{d\" + x.name + \"} = \" + latex(dx_dy) + \"$\"))"
   ]
  },
  {
   "cell_type": "markdown",
   "metadata": {},
   "source": [
    "## Instructions"
   ]
  },
  {
   "cell_type": "markdown",
   "metadata": {},
   "source": [
    "\n",
    "**Time Allowed**: 2 hours\n",
    "\n",
    "**Instructions**:  Answer 4 questions. All questions carry equal marks\n",
    "\n",
    "The use of programmable or text storing calculators is expressly forbidden.\n",
    "\n",
    "Please note that where a candidate answers more than the required number of questions, the examiner will mark all questions attempted and then select the highest scoring ones.\n",
    "\n",
    "***Requirements for this paper:***\n",
    "\n",
    "1. ***Log Tables***\n",
    "2. ***Calculators***\n"
   ]
  },
  {
   "cell_type": "markdown",
   "metadata": {},
   "source": [
    "## Question 1 (Total Marks 25)"
   ]
  },
  {
   "cell_type": "markdown",
   "metadata": {},
   "source": [
    "### Question 1(a) [12 Marks]"
   ]
  },
  {
   "cell_type": "markdown",
   "metadata": {},
   "source": [
    "Solve the triangle shown below:\n",
    "\n",
    "![Figure 1](images/exam-2023-mathematical-methods-2-math06072-paper/figure-1.png)"
   ]
  },
  {
   "cell_type": "markdown",
   "metadata": {},
   "source": [
    "### Question 1(b) [3 Marks]"
   ]
  },
  {
   "cell_type": "markdown",
   "metadata": {},
   "source": [
    "When the angle of elevation of the sun is 10°, an upright flagpole casts a shadow of length of 20m. Calculate the height of the pole."
   ]
  },
  {
   "cell_type": "markdown",
   "metadata": {},
   "source": [
    "### Question 1(c) [4 Marks]"
   ]
  },
  {
   "cell_type": "markdown",
   "metadata": {},
   "source": [
    "\n",
    "\n",
    "Given $2.3\\ln{\\dfrac{1.3}{x^2}}=9.1$, Solve for x:"
   ]
  },
  {
   "cell_type": "markdown",
   "metadata": {},
   "source": [
    "#### Question 1(c) Answer"
   ]
  },
  {
   "cell_type": "markdown",
   "metadata": {},
   "source": [
    "<details>\n",
    "<summary>A Note on ln</summary>\n",
    "What is the difference between ln and log?\n",
    "\n",
    "$\\ln$ is the natural logarithm i.e. $$\\ln{x} = \\log_{e}{x}$$\n",
    "\n",
    "So for any of the log rules, e.g the quotient rule:  \n",
    "$$\\log_{c}{\\dfrac{a}{b}} = \\log_{c}{a} - \\log_{c}{b}$$  \n",
    "for natural logarithms, substitute $c=e$ to get the natural logarithm rule for quotients:  \n",
    "$$\\log_e{\\dfrac{a}{b}} = \\log_e{a} - \\log_e{b}$$  \n",
    "and $\\log_e{x} = \\ln{x}$ so the rule becomes:  \n",
    "$$\\ln{\\dfrac{a}{b}} = \\ln{a} - \\ln{b}$$\n",
    "\n",
    "---\n",
    "</details>\n",
    "\n",
    "$2.3\\ln{\\dfrac{1.3}{x^2}}=9.1$\n",
    "\n",
    "The log quotient rule $\\ln{\\dfrac{a}{b}} = \\ln{a} - \\ln{b}$ applies to $\\ln{\\dfrac{1.3}{x^2}}$  \n",
    "$\\therefore \\ln({\\dfrac{1.3}{x^2}}) = \\ln({1.3}) - \\ln({x^2})$\n",
    "\n",
    "$2.3(\\ln({1.3}) - \\ln({x^2}))=9.1$  \n",
    "$2.3\\ln({1.3}) - 2.3\\ln({x^2})=9.1$\n",
    "\n",
    "The power rule for logarithms states that $\\log_{b}{x^n} = n\\log_{b}{x}$\n",
    "$\\therefore \\ln({x^2}) = 2\\ln({x})$\n",
    "\n",
    "$2.3\\ln({1.3}) - 2.3(2\\ln({x}))=9.1$  \n",
    "$2.3\\ln({1.3}) - 4.6\\ln({x})=9.1$  \n",
    "$2.3\\ln({1.3}) - 9.1=4.6\\ln({x})$  \n",
    "$\\dfrac{2.3\\ln({1.3}) - 9.1}{4.6}=\\ln({x})$  \n",
    "$\\ln({x}) = \\dfrac{2.3\\ln({1.3}) - 9.1}{4.6}$\n",
    "\n",
    "Inverse Property of Logarithms and Exponentials: If $ln(a)=b$, then $a=e^b$.  \n",
    "This means that for any real number $k$, $ln(x)=k$ is equivalent to $x=e^k$.\n",
    "\n",
    "Let $k=\\dfrac{2.3\\ln({1.3}) - 9.1}{4.6}$\n",
    "$ln(1.3) \\approx 0.2624$\n",
    "\n",
    "$k \\approx \\frac{2.3 \\times 0.2624 - 9.1}{4.6} \\approx \\frac{0.6048 - 9.1}{4.6} \\approx \\frac{-8.4952}{4.6} \\approx -1.8470$\n",
    "\n",
    "$x = e^{\\dfrac{2.3\\ln({1.3}) - 9.1}{4.6}}$\n",
    "\n",
    "$\\therefore ln(x)\\approx k \\approx -1.8470$\n",
    "$\\therefore x=e^{-1.8470} \\approx 0.157$\n",
    "\n",
    "$\\boxed{x \\approx 0.157}$"
   ]
  },
  {
   "cell_type": "code",
   "execution_count": 5,
   "metadata": {},
   "outputs": [
    {
     "data": {
      "text/plain": [
       "[-0.157697168944812, 0.157697168944812]"
      ]
     },
     "execution_count": 5,
     "metadata": {},
     "output_type": "execute_result"
    }
   ],
   "source": [
    "# Define the variable\n",
    "x = symbols('x')\n",
    "\n",
    "# Define the equation\n",
    "equation = 2.3 * ln(1.3 / x**2) - 9.1\n",
    "\n",
    "# Isolate the logarithm term\n",
    "isolated_log = solve(equation, x)\n",
    "\n",
    "isolated_log\n"
   ]
  },
  {
   "cell_type": "markdown",
   "metadata": {},
   "source": [
    "The SymPy library provides two solutions to the equation\n",
    "\n",
    "However, since the logarithm of a negative number is not defined in the real number system, the valid solution is:\n",
    "\n",
    "$ x \\approx 0.1577 $"
   ]
  },
  {
   "cell_type": "markdown",
   "metadata": {},
   "source": [
    "### Question 1(d) [6 Marks]"
   ]
  },
  {
   "cell_type": "markdown",
   "metadata": {},
   "source": [
    "For the function shown below, determine the second order differential $f(x)$.\n",
    "\n",
    "$f(x) =-6x+\\frac{1}{\\sqrt[3]{x}} - \\frac{1}{4x^3}$"
   ]
  }
 ],
 "metadata": {
  "kernelspec": {
   "display_name": "base",
   "language": "python",
   "name": "python3"
  },
  "language_info": {
   "codemirror_mode": {
    "name": "ipython",
    "version": 3
   },
   "file_extension": ".py",
   "mimetype": "text/x-python",
   "name": "python",
   "nbconvert_exporter": "python",
   "pygments_lexer": "ipython3",
   "version": "3.11.5"
  }
 },
 "nbformat": 4,
 "nbformat_minor": 2
}
